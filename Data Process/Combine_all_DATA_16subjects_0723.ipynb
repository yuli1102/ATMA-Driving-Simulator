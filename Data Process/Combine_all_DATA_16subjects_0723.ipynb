{
 "cells": [
  {
   "cell_type": "code",
   "execution_count": 1,
   "metadata": {},
   "outputs": [],
   "source": [
    "import numpy as np\n",
    "import pandas as pd\n",
    "import matplotlib.pyplot as plt\n",
    "import math\n",
    "import seaborn as sns\n",
    "import math\n",
    "import json\n",
    "import datetime\n",
    "from scipy.spatial import ConvexHull\n",
    "from shapely.geometry import Point, Polygon\n",
    "from descartes.patch import PolygonPatch\n",
    "import warnings\n",
    "warnings.filterwarnings(\"ignore\")\n",
    "import Assistant_function"
   ]
  },
  {
   "cell_type": "code",
   "execution_count": 2,
   "metadata": {},
   "outputs": [],
   "source": [
    "sub_No = 16\n",
    "width = 1920\n",
    "height = 1080"
   ]
  },
  {
   "cell_type": "code",
   "execution_count": 3,
   "metadata": {},
   "outputs": [],
   "source": [
    "Col_FT_X = ['Follow_box_1X','Follow_box_2X','Follow_box_3X','Follow_box_4X',\n",
    "            'Follow_box_5X','Follow_box_6X','Follow_box_7X','Follow_box_8X']\n",
    "Col_FT_Y = ['Follow_box_1Y','Follow_box_2Y','Follow_box_3Y','Follow_box_4Y',\n",
    "            'Follow_box_5Y','Follow_box_6Y','Follow_box_7Y','Follow_box_8Y']\n",
    "Col_LT_X = ['Lead_box_1X','Lead_box_2X','Lead_box_3X','Lead_box_4X','Lead_box_5X','Lead_box_6X','Lead_box_7X','Lead_box_8X']\n",
    "Col_LT_Y = ['Lead_box_1Y','Lead_box_2Y','Lead_box_3Y','Lead_box_4Y','Lead_box_5Y','Lead_box_6Y','Lead_box_7Y','Lead_box_8Y']\n",
    "Col_FT_sign_X = ['Follow_sign_box_1X','Follow_sign_box_2X','Follow_sign_box_3X','Follow_sign_box_4X',\n",
    "                 'Follow_sign_box_5X','Follow_sign_box_6X','Follow_sign_box_7X','Follow_sign_box_8X']\n",
    "Col_FT_sign_Y = ['Follow_sign_box_1Y','Follow_sign_box_2Y','Follow_sign_box_3Y','Follow_sign_box_4Y',\n",
    "                 'Follow_sign_box_5Y','Follow_sign_box_6Y','Follow_sign_box_7Y','Follow_sign_box_8Y']\n",
    "Col_LT_sign_X = ['Lead_sign_box_1X','Lead_sign_box_2X','Lead_sign_box_3X','Lead_sign_box_4X',\n",
    "                 'Lead_sign_box_5X','Lead_sign_box_6X','Lead_sign_box_7X','Lead_sign_box_8X']\n",
    "Col_LT_sign_Y = ['Lead_sign_box_1Y','Lead_sign_box_2Y','Lead_sign_box_3Y','Lead_sign_box_4Y',\n",
    "                 'Lead_sign_box_5Y','Lead_sign_box_6Y','Lead_sign_box_7Y','Lead_sign_box_8Y']"
   ]
  },
  {
   "cell_type": "code",
   "execution_count": 4,
   "metadata": {},
   "outputs": [],
   "source": [
    "Exp_1_Sub_1 = pd.read_csv(\"Data/Experiment_1_Sub_1_0723.csv\")\n",
    "Exp_2_Sub_1 = pd.read_csv(\"Data/Experiment_2_Sub_1_0723.csv\")\n",
    "Exp_1_Sub_2 = pd.read_csv(\"Data/Experiment_1_Sub_2_0723.csv\")\n",
    "Exp_2_Sub_2 = pd.read_csv(\"Data/Experiment_2_Sub_2_0723.csv\")\n",
    "Exp_1_Sub_3 = pd.read_csv(\"Data/Experiment_1_Sub_3_0723.csv\")\n",
    "Exp_2_Sub_3 = pd.read_csv(\"Data/Experiment_2_Sub_3_0723.csv\")\n",
    "Exp_1_Sub_4 = pd.read_csv(\"Data/Experiment_1_Sub_4_0723.csv\")\n",
    "Exp_2_Sub_4 = pd.read_csv(\"Data/Experiment_2_Sub_4_0723.csv\")\n",
    "Exp_1_Sub_5 = pd.read_csv(\"Data/Experiment_1_Sub_5_0723.csv\")\n",
    "Exp_2_Sub_5 = pd.read_csv(\"Data/Experiment_2_Sub_5_0723.csv\")\n",
    "Exp_1_Sub_6 = pd.read_csv(\"Data/Experiment_1_Sub_6_0723.csv\")\n",
    "Exp_2_Sub_6 = pd.read_csv(\"Data/Experiment_2_Sub_6_0723.csv\")\n",
    "Exp_1_Sub_7 = pd.read_csv(\"Data/Experiment_1_Sub_7_0723.csv\")\n",
    "Exp_2_Sub_7 = pd.read_csv(\"Data/Experiment_2_Sub_7_0723.csv\")\n",
    "Exp_1_Sub_8 = pd.read_csv(\"Data/Experiment_1_Sub_8_0723.csv\")\n",
    "Exp_2_Sub_8 = pd.read_csv(\"Data/Experiment_2_Sub_8_0723.csv\")\n",
    "Exp_1_Sub_9 = pd.read_csv(\"Data/Experiment_1_Sub_9_0723.csv\")\n",
    "Exp_2_Sub_9 = pd.read_csv(\"Data/Experiment_2_Sub_9_0723.csv\")\n",
    "Exp_1_Sub_10 = pd.read_csv(\"Data/Experiment_1_Sub_10_0723.csv\")\n",
    "Exp_2_Sub_10 = pd.read_csv(\"Data/Experiment_2_Sub_10_0723.csv\")\n",
    "Exp_1_Sub_11 = pd.read_csv(\"Data/Experiment_1_Sub_11_0723.csv\")\n",
    "Exp_2_Sub_11 = pd.read_csv(\"Data/Experiment_2_Sub_11_0723.csv\")\n",
    "Exp_1_Sub_12 = pd.read_csv(\"Data/Experiment_1_Sub_12_0723.csv\")\n",
    "Exp_2_Sub_12 = pd.read_csv(\"Data/Experiment_2_Sub_12_0723.csv\")\n",
    "Exp_1_Sub_13 = pd.read_csv(\"Data/Experiment_1_Sub_13_0723.csv\")\n",
    "Exp_2_Sub_13 = pd.read_csv(\"Data/Experiment_2_Sub_13_0723.csv\")\n",
    "Exp_1_Sub_14 = pd.read_csv(\"Data/Experiment_1_Sub_14_0723.csv\")\n",
    "Exp_2_Sub_14 = pd.read_csv(\"Data/Experiment_2_Sub_14_0723.csv\")\n",
    "Exp_1_Sub_15 = pd.read_csv(\"Data/Experiment_1_Sub_15_0723.csv\")\n",
    "Exp_2_Sub_15 = pd.read_csv(\"Data/Experiment_2_Sub_15_0723.csv\")\n",
    "Exp_1_Sub_16 = pd.read_csv(\"Data/Experiment_1_Sub_16.csv\")\n",
    "Exp_2_Sub_16 = pd.read_csv(\"Data/Experiment_2_Sub_16.csv\")"
   ]
  },
  {
   "cell_type": "code",
   "execution_count": 5,
   "metadata": {},
   "outputs": [
    {
     "data": {
      "text/plain": [
       "(172994, 123)"
      ]
     },
     "execution_count": 5,
     "metadata": {},
     "output_type": "execute_result"
    }
   ],
   "source": [
    "DATA = pd.concat([Exp_1_Sub_1,Exp_2_Sub_1,Exp_1_Sub_2,Exp_2_Sub_2,Exp_1_Sub_3,Exp_2_Sub_3,Exp_1_Sub_4,Exp_2_Sub_4,\n",
    "                  Exp_1_Sub_5,Exp_2_Sub_5,Exp_1_Sub_6,Exp_2_Sub_6,Exp_1_Sub_7,Exp_2_Sub_7,Exp_1_Sub_8,Exp_2_Sub_8,\n",
    "                  Exp_1_Sub_9,Exp_2_Sub_9,Exp_1_Sub_10,Exp_2_Sub_10,Exp_1_Sub_11,Exp_2_Sub_11,Exp_1_Sub_12,Exp_2_Sub_12,\n",
    "                  Exp_1_Sub_13,Exp_2_Sub_13,Exp_1_Sub_14,Exp_2_Sub_14,Exp_1_Sub_15,Exp_2_Sub_15,Exp_1_Sub_16,Exp_2_Sub_16])\n",
    "\n",
    "DATA = DATA.reset_index(drop=True)\n",
    "DATA.shape"
   ]
  },
  {
   "cell_type": "code",
   "execution_count": 6,
   "metadata": {},
   "outputs": [],
   "source": [
    "DATA[[\"Fixation_ON_FT\",\"Fixation_ON_LT\",\"Fixation_ON_FT_SIGN\",\"Fixation_ON_LT_SIGN\"]] = False"
   ]
  },
  {
   "cell_type": "code",
   "execution_count": 7,
   "metadata": {},
   "outputs": [],
   "source": [
    "for index in range(0,DATA.shape[0]):\n",
    "    if DATA.loc[index,'Fixation point X'] == DATA.loc[index,'Fixation point X']:  # if fixation is nan, it returns false, ignore this data\n",
    "        DATA.loc[index,[\"Fixation_ON_FT\",\"Fixation_ON_LT\",\"Fixation_ON_FT_SIGN\",\"Fixation_ON_LT_SIGN\"]]= Assistant_function.On_Objects(DATA.loc[index,:],Col_FT_X,Col_FT_Y,Col_LT_X,Col_LT_Y,Col_FT_sign_X,Col_FT_sign_Y,Col_LT_sign_X,Col_LT_sign_Y)"
   ]
  },
  {
   "cell_type": "code",
   "execution_count": 8,
   "metadata": {},
   "outputs": [],
   "source": [
    "DATA[[\"Gaze_ON_FT\",\"Gaze_ON_LT\",\"Gaze_ON_FT_SIGN\",\"Gaze_ON_LT_SIGN\"]] = False"
   ]
  },
  {
   "cell_type": "code",
   "execution_count": 9,
   "metadata": {},
   "outputs": [],
   "source": [
    "for index in range(0,DATA.shape[0]):\n",
    "    if DATA.loc[index,'Gaze point X'] == DATA.loc[index,'Gaze point X']:  # if fixation is nan, it returns false, ignore this data\n",
    "        DATA.loc[index,[\"Gaze_ON_FT\",\"Gaze_ON_LT\",\"Gaze_ON_FT_SIGN\",\"Gaze_ON_LT_SIGN\"]]= Assistant_function.Gaze_On_Objects(DATA.loc[index,:],Col_FT_X,Col_FT_Y,Col_LT_X,Col_LT_Y,Col_FT_sign_X,Col_FT_sign_Y,Col_LT_sign_X,Col_LT_sign_Y)"
   ]
  },
  {
   "cell_type": "code",
   "execution_count": 10,
   "metadata": {},
   "outputs": [],
   "source": [
    "DATA.to_csv(\"Data/Driving_Simulation_Experiment_Data_All_0723.csv\", index = False)"
   ]
  },
  {
   "cell_type": "code",
   "execution_count": 11,
   "metadata": {},
   "outputs": [
    {
     "data": {
      "text/plain": [
       "(172994, 131)"
      ]
     },
     "execution_count": 11,
     "metadata": {},
     "output_type": "execute_result"
    }
   ],
   "source": [
    "DATA.shape"
   ]
  },
  {
   "cell_type": "code",
   "execution_count": 14,
   "metadata": {},
   "outputs": [
    {
     "name": "stdout",
     "output_type": "stream",
     "text": [
      "Fixation_ON_FT         False\n",
      "Fixation_ON_LT         False\n",
      "Fixation_ON_FT_SIGN    False\n",
      "Fixation_ON_LT_SIGN    False\n",
      "Name: 6596, dtype: object\n"
     ]
    },
    {
     "data": {
      "image/png": "[encoded data removed]",
      "text/plain": [
       "<Figure size 1080x360 with 1 Axes>"
      ]
     },
     "metadata": {
      "needs_background": "light"
     },
     "output_type": "display_data"
    }
   ],
   "source": [
    "index = 6596\n",
    "print(DATA.loc[index,[\"Fixation_ON_FT\",\"Fixation_ON_LT\",\"Fixation_ON_FT_SIGN\",\"Fixation_ON_LT_SIGN\"]])\n",
    "Assistant_function.draw_object_fixation(index,DATA,Col_FT_X,Col_FT_Y,Col_LT_X,Col_LT_Y,Col_FT_sign_X,Col_FT_sign_Y,Col_LT_sign_X,Col_LT_sign_Y,width,height)\n"
   ]
  },
  {
   "cell_type": "code",
   "execution_count": 13,
   "metadata": {},
   "outputs": [
    {
     "name": "stdout",
     "output_type": "stream",
     "text": [
      "Gaze_ON_FT         False\n",
      "Gaze_ON_LT         False\n",
      "Gaze_ON_FT_SIGN    False\n",
      "Gaze_ON_LT_SIGN    False\n",
      "Name: 6816, dtype: object\n"
     ]
    },
    {
     "data": {
      "image/png": "[encoded data removed]",
      "text/plain": [
       "<Figure size 1080x360 with 1 Axes>"
      ]
     },
     "metadata": {
      "needs_background": "light"
     },
     "output_type": "display_data"
    }
   ],
   "source": [
    "# incase you want to draw\n",
    "index = 6816\n",
    "print(DATA.loc[index,[\"Gaze_ON_FT\",\"Gaze_ON_LT\",\"Gaze_ON_FT_SIGN\",\"Gaze_ON_LT_SIGN\"]])\n",
    "Assistant_function.draw_object_gaze(index,DATA,Col_FT_X,Col_FT_Y,Col_LT_X,Col_LT_Y,Col_FT_sign_X,Col_FT_sign_Y,Col_LT_sign_X,Col_LT_sign_Y,width,height)\n"
   ]
  },
  {
   "cell_type": "code",
   "execution_count": null,
   "metadata": {},
   "outputs": [],
   "source": []
  }
 ],
 "metadata": {
  "kernelspec": {
   "display_name": "Python 3",
   "language": "python",
   "name": "python3"
  },
  "language_info": {
   "codemirror_mode": {
    "name": "ipython",
    "version": 3
   },
   "file_extension": ".py",
   "mimetype": "text/x-python",
   "name": "python",
   "nbconvert_exporter": "python",
   "pygments_lexer": "ipython3",
   "version": "3.8.5"
  }
 },
 "nbformat": 4,
 "nbformat_minor": 4
}
