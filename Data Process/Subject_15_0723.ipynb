{
 "cells": [
  {
   "cell_type": "code",
   "execution_count": 1,
   "metadata": {},
   "outputs": [],
   "source": [
    "import numpy as np\n",
    "import pandas as pd\n",
    "import matplotlib.pyplot as plt\n",
    "import math\n",
    "import seaborn as sns\n",
    "import math\n",
    "import json\n",
    "import datetime\n",
    "from scipy.spatial import ConvexHull\n",
    "from shapely.geometry import Point, Polygon\n",
    "from descartes.patch import PolygonPatch\n",
    "import warnings\n",
    "warnings.filterwarnings(\"ignore\")\n",
    "import Assistant_function"
   ]
  },
  {
   "cell_type": "code",
   "execution_count": 2,
   "metadata": {},
   "outputs": [],
   "source": [
    "width = 1920\n",
    "height = 1080"
   ]
  },
  {
   "cell_type": "markdown",
   "metadata": {},
   "source": [
    "# load driving simulator data"
   ]
  },
  {
   "cell_type": "code",
   "execution_count": 3,
   "metadata": {},
   "outputs": [],
   "source": [
    "Data_1 = pd.read_csv(\"Raw Data\\Participant_15\\experiment_1.txt\", sep='#|,').replace(['\\(','\\)'], ['',''], regex=True)\n",
    "Data_1.iloc[:,1:20] = Data_1.iloc[:,1:20].astype('float')\n",
    "Data_1.iloc[:,25:-2] = Data_1.iloc[:,25:-2].astype('float')\n",
    "Data_2 = pd.read_csv(\"Raw Data\\Participant_15\\experiment_2.txt\", sep='#|,').replace(['\\(','\\)'], ['',''], regex=True)\n",
    "Data_2.iloc[:,1:20] = Data_2.iloc[:,1:20].astype('float')\n",
    "Data_2.iloc[:,25:-2] = Data_2.iloc[:,25:-2].astype('float')"
   ]
  },
  {
   "cell_type": "code",
   "execution_count": 4,
   "metadata": {},
   "outputs": [],
   "source": [
    "# start when the subject stepping down the throttle\n",
    "# end when the subject get out the exit\n",
    "Start_time_index_1 = Data_1[Data_1.loc[:,\"throttle\"]!=Data_1.loc[0,\"throttle\"]].index[0] \n",
    "End_time_index_1 = Data_1[Data_1.loc[:,\"rest_area_dis\"]==Data_1.loc[:,\"rest_area_dis\"].min()].index[0]\n",
    "Data_1 = Data_1.loc[Start_time_index_1:End_time_index_1].reset_index(drop=True)\n",
    "Start_time_index_2 = Data_2[Data_2.loc[:,\"throttle\"]!=Data_2.loc[0,\"throttle\"]].index[0] \n",
    "End_time_index_2 = Data_2[Data_2.loc[:,\"rest_area_dis\"]==Data_2.loc[:,\"rest_area_dis\"].min()].index[0]\n",
    "Data_2 = Data_2.loc[Start_time_index_2:End_time_index_2].reset_index(drop=True)"
   ]
  },
  {
   "cell_type": "code",
   "execution_count": 5,
   "metadata": {},
   "outputs": [
    {
     "name": "stdout",
     "output_type": "stream",
     "text": [
      "The first experiment costed time:  0 days 00:01:34.425400\n",
      "The second experiment costed time:  0 days 00:01:32.552500\n"
     ]
    }
   ],
   "source": [
    "dt = Data_1.loc[0, \"timestamp\"][0:9]\n",
    "Data_1[\"timestamp\"] = Data_1[\"timestamp\"].apply(lambda x: Assistant_function.to_timestampe(x))\n",
    "Data_2[\"timestamp\"] = Data_2[\"timestamp\"].apply(lambda x: Assistant_function.to_timestampe(x))\n",
    "start_time_1 = Data_1.loc[0,\"timestamp\"]\n",
    "end_time_1 =  Data_1.loc[Data_1.shape[0]-1,\"timestamp\"]\n",
    "print(\"The first experiment costed time: \", end_time_1 - start_time_1 )\n",
    "start_time_2 = Data_2.loc[0,\"timestamp\"]\n",
    "end_time_2 =  Data_2.loc[Data_2.shape[0]-1,\"timestamp\"]\n",
    "print(\"The second experiment costed time: \", end_time_2 - start_time_2 )"
   ]
  },
  {
   "cell_type": "code",
   "execution_count": 6,
   "metadata": {},
   "outputs": [
    {
     "data": {
      "text/plain": [
       "((5666, 99), (5554, 99))"
      ]
     },
     "execution_count": 6,
     "metadata": {},
     "output_type": "execute_result"
    }
   ],
   "source": [
    "Data_1.shape,Data_2.shape"
   ]
  },
  {
   "cell_type": "code",
   "execution_count": null,
   "metadata": {},
   "outputs": [],
   "source": []
  },
  {
   "cell_type": "code",
   "execution_count": 7,
   "metadata": {},
   "outputs": [],
   "source": [
    "Col_FT_X = ['Follow_box_1X','Follow_box_2X','Follow_box_3X','Follow_box_4X',\n",
    "            'Follow_box_5X','Follow_box_6X','Follow_box_7X','Follow_box_8X']\n",
    "Col_FT_Y = ['Follow_box_1Y','Follow_box_2Y','Follow_box_3Y','Follow_box_4Y',\n",
    "            'Follow_box_5Y','Follow_box_6Y','Follow_box_7Y','Follow_box_8Y']\n",
    "Col_LT_X = ['Lead_box_1X','Lead_box_2X','Lead_box_3X','Lead_box_4X','Lead_box_5X','Lead_box_6X','Lead_box_7X','Lead_box_8X']\n",
    "Col_LT_Y = ['Lead_box_1Y','Lead_box_2Y','Lead_box_3Y','Lead_box_4Y','Lead_box_5Y','Lead_box_6Y','Lead_box_7Y','Lead_box_8Y']\n",
    "Col_FT_sign_X = ['Follow_sign_box_1X','Follow_sign_box_2X','Follow_sign_box_3X','Follow_sign_box_4X',\n",
    "                 'Follow_sign_box_5X','Follow_sign_box_6X','Follow_sign_box_7X','Follow_sign_box_8X']\n",
    "Col_FT_sign_Y = ['Follow_sign_box_1Y','Follow_sign_box_2Y','Follow_sign_box_3Y','Follow_sign_box_4Y',\n",
    "                 'Follow_sign_box_5Y','Follow_sign_box_6Y','Follow_sign_box_7Y','Follow_sign_box_8Y']\n",
    "Col_LT_sign_X = ['Lead_sign_box_1X','Lead_sign_box_2X','Lead_sign_box_3X','Lead_sign_box_4X',\n",
    "                 'Lead_sign_box_5X','Lead_sign_box_6X','Lead_sign_box_7X','Lead_sign_box_8X']\n",
    "Col_LT_sign_Y = ['Lead_sign_box_1Y','Lead_sign_box_2Y','Lead_sign_box_3Y','Lead_sign_box_4Y',\n",
    "                 'Lead_sign_box_5Y','Lead_sign_box_6Y','Lead_sign_box_7Y','Lead_sign_box_8Y']"
   ]
  },
  {
   "cell_type": "code",
   "execution_count": 8,
   "metadata": {},
   "outputs": [],
   "source": [
    "# change the height because the mask height is different to other objects y\n",
    "Data_1[Col_FT_Y] = height - Data_1[Col_FT_Y] \n",
    "Data_1[Col_LT_Y] = height - Data_1[Col_LT_Y] \n",
    "Data_1[Col_FT_sign_Y] = height - Data_1[Col_FT_sign_Y] \n",
    "Data_1[Col_LT_sign_Y] = height - Data_1[Col_LT_sign_Y] \n",
    "\n",
    "Data_2[Col_FT_Y] = height - Data_2[Col_FT_Y] \n",
    "Data_2[Col_LT_Y] = height - Data_2[Col_LT_Y] \n",
    "Data_2[Col_FT_sign_Y] = height - Data_2[Col_FT_sign_Y] \n",
    "Data_2[Col_LT_sign_Y] = height - Data_2[Col_LT_sign_Y] \n"
   ]
  },
  {
   "cell_type": "code",
   "execution_count": 9,
   "metadata": {},
   "outputs": [
    {
     "data": {
      "image/png": "[encoded data removed]",
      "text/plain": [
       "<Figure size 432x288 with 1 Axes>"
      ]
     },
     "metadata": {
      "needs_background": "light"
     },
     "output_type": "display_data"
    }
   ],
   "source": [
    "plt.plot(Data_2[Col_FT_X+Col_FT_Y+Col_LT_sign_X+Col_LT_sign_Y+Col_FT_sign_X+Col_FT_sign_Y])\n",
    "plt.show()"
   ]
  },
  {
   "cell_type": "code",
   "execution_count": 10,
   "metadata": {
    "scrolled": true
   },
   "outputs": [],
   "source": [
    "Assistant_function.adjustdisplayxy(Data_2,Col_FT_X,Col_FT_Y)\n",
    "Assistant_function.adjustdisplayxy(Data_2,Col_LT_X,Col_LT_Y)\n",
    "Assistant_function.adjustdisplayxy(Data_2,Col_LT_sign_X,Col_LT_sign_Y)\n",
    "Assistant_function.adjustdisplayxy(Data_2,Col_FT_sign_X,Col_FT_sign_Y)\n",
    "Assistant_function.adjustdisplayxy(Data_1,Col_FT_X,Col_FT_Y)\n",
    "Assistant_function.adjustdisplayxy(Data_1,Col_LT_X,Col_LT_Y)\n",
    "Assistant_function.adjustdisplayxy(Data_1,Col_LT_sign_X,Col_LT_sign_Y)\n",
    "Assistant_function.adjustdisplayxy(Data_1,Col_FT_sign_X,Col_FT_sign_Y)"
   ]
  },
  {
   "cell_type": "code",
   "execution_count": 11,
   "metadata": {},
   "outputs": [],
   "source": [
    "Data_2[[\"FT_On_Disply\",\"LT_On_Disply\",\"LT_sign_On_Disply\",\"FT_sign_On_Disply\"]] = True\n",
    "Data_1[[\"FT_On_Disply\",\"LT_On_Disply\",\"LT_sign_On_Disply\",\"FT_sign_On_Disply\"]] = True\n",
    "Assistant_function.On_Disaplay(Data_2,Col_FT_X,Col_FT_Y,\"FT_On_Disply\",width,height)\n",
    "Assistant_function.On_Disaplay(Data_2,Col_LT_X,Col_LT_Y,\"LT_On_Disply\",width,height)\n",
    "Assistant_function.On_Disaplay(Data_2,Col_LT_sign_X,Col_LT_sign_Y,\"LT_sign_On_Disply\",width,height)\n",
    "Assistant_function.On_Disaplay(Data_2,Col_FT_sign_X,Col_FT_sign_Y,\"FT_sign_On_Disply\",width,height)\n",
    "Assistant_function.On_Disaplay(Data_1,Col_FT_X,Col_FT_Y,\"FT_On_Disply\",width,height)\n",
    "Assistant_function.On_Disaplay(Data_1,Col_LT_X,Col_LT_Y,\"LT_On_Disply\",width,height)\n",
    "Assistant_function.On_Disaplay(Data_1,Col_LT_sign_X,Col_LT_sign_Y,\"LT_sign_On_Disply\",width,height)\n",
    "Assistant_function.On_Disaplay(Data_1,Col_FT_sign_X,Col_FT_sign_Y,\"FT_sign_On_Disply\",width,height)\n"
   ]
  },
  {
   "cell_type": "code",
   "execution_count": 12,
   "metadata": {},
   "outputs": [
    {
     "data": {
      "image/png": "[encoded data removed]",
      "text/plain": [
       "<Figure size 432x288 with 1 Axes>"
      ]
     },
     "metadata": {
      "needs_background": "light"
     },
     "output_type": "display_data"
    }
   ],
   "source": [
    "plt.plot(Data_2[[\"FT_On_Disply\",\"LT_On_Disply\",\"LT_sign_On_Disply\",\"FT_sign_On_Disply\"]])\n",
    "plt.show()"
   ]
  },
  {
   "cell_type": "code",
   "execution_count": null,
   "metadata": {},
   "outputs": [],
   "source": []
  },
  {
   "cell_type": "code",
   "execution_count": 13,
   "metadata": {},
   "outputs": [],
   "source": [
    "# load eye tracker data"
   ]
  },
  {
   "cell_type": "code",
   "execution_count": 14,
   "metadata": {
    "scrolled": true
   },
   "outputs": [],
   "source": [
    "eye_data = pd.read_excel(\"Raw Data\\Participant_15\\Eye_tracker_Data_P15_0706.xlsx\")"
   ]
  },
  {
   "cell_type": "code",
   "execution_count": 15,
   "metadata": {},
   "outputs": [
    {
     "data": {
      "text/plain": [
       "(44948, 102)"
      ]
     },
     "execution_count": 15,
     "metadata": {},
     "output_type": "execute_result"
    }
   ],
   "source": [
    "eye_data.shape"
   ]
  },
  {
   "cell_type": "code",
   "execution_count": 16,
   "metadata": {},
   "outputs": [],
   "source": [
    "eye_data[\"Changing Lane\"] = False\n",
    "for cls,cle in zip(eye_data[eye_data.Event==\"Start Change Lane\"].index,eye_data[eye_data.Event==\"End Change Lane\"].index):\n",
    "    eye_data.loc[cls:cle,\"Changing Lane\"] = True"
   ]
  },
  {
   "cell_type": "code",
   "execution_count": 17,
   "metadata": {},
   "outputs": [],
   "source": [
    "eye_data.rename(columns={'AOI hit [Screen Recording Recording13 (1) - Indicator Dashboard]': 'Indicator Dashboard',\n",
    "                           'AOI hit [Screen Recording Recording13 (1) - Left Mirror]': 'Left Mirror',\n",
    "                           'AOI hit [Screen Recording Recording13 (1) - Rear Mirror]': 'Rear Mirror',\n",
    "                           'AOI hit [Screen Recording Recording13 (1) - Right Mirror]': 'Right Mirror',\n",
    "                           'AOI hit [Screen Recording Recording13 (1) - Speed Dashboard]': 'Speed Dashboard',\n",
    "                          }, inplace=True)"
   ]
  },
  {
   "cell_type": "code",
   "execution_count": 18,
   "metadata": {
    "scrolled": true
   },
   "outputs": [],
   "source": [
    "eye_data[\"timestamp\"] = eye_data[['Recording timestamp','Recording start time']].apply(lambda x: Assistant_function.to_Date(x,dt), axis=1)\n",
    "eye_data = eye_data[['timestamp','Sensor','Participant name','Event','Pupil diameter left', 'Pupil diameter right','Gaze point X','Gaze point Y',\n",
    "                     'Eye movement type','Gaze event duration','Eye movement type index','Fixation point X','Fixation point Y',\n",
    "                     'Indicator Dashboard', 'Left Mirror', 'Rear Mirror','Right Mirror', 'Speed Dashboard',\"Changing Lane\"]] # only keep relevant variables"
   ]
  },
  {
   "cell_type": "code",
   "execution_count": 19,
   "metadata": {},
   "outputs": [],
   "source": [
    "# split and trim the data based on the start and end time extracted from driving simulator dataset\n",
    "Start_time_index_1 = abs(eye_data[\"timestamp\"] - start_time_1).idxmin()\n",
    "End_time_index_1 = abs(eye_data[\"timestamp\"] - end_time_1).idxmin()\n",
    "eye_data_1 = eye_data.loc[Start_time_index_1:End_time_index_1].reset_index(drop=True)\n",
    "Start_time_index_2 = abs(eye_data[\"timestamp\"] - start_time_2).idxmin()\n",
    "End_time_index_2 = abs(eye_data[\"timestamp\"] - end_time_2).idxmin()\n",
    "eye_data_2 = eye_data.loc[Start_time_index_2:End_time_index_2].reset_index(drop=True)"
   ]
  },
  {
   "cell_type": "code",
   "execution_count": 20,
   "metadata": {},
   "outputs": [],
   "source": [
    "eye_data_1[\"Existing\"] = False\n",
    "for exit_s in eye_data_1[eye_data_1.Event==\"Exiting\"].index:\n",
    "    eye_data_1.loc[exit_s:,\"Existing\"] = True\n",
    "eye_data_2[\"Existing\"] = False\n",
    "for exit_s in eye_data_2[eye_data_2.Event==\"Exiting\"].index:\n",
    "    eye_data_2.loc[exit_s:,\"Existing\"] = True"
   ]
  },
  {
   "cell_type": "code",
   "execution_count": 21,
   "metadata": {},
   "outputs": [],
   "source": [
    "eye_data_1 = eye_data_1[eye_data_1['Sensor'] == \"Eye Tracker\"] \n",
    "eye_data_2 = eye_data_2[eye_data_2['Sensor'] == \"Eye Tracker\"] "
   ]
  },
  {
   "cell_type": "code",
   "execution_count": 22,
   "metadata": {},
   "outputs": [
    {
     "data": {
      "text/plain": [
       "((5665, 20), (5553, 20))"
      ]
     },
     "execution_count": 22,
     "metadata": {},
     "output_type": "execute_result"
    }
   ],
   "source": [
    "eye_data_1.shape,eye_data_2.shape"
   ]
  },
  {
   "cell_type": "code",
   "execution_count": 23,
   "metadata": {},
   "outputs": [
    {
     "name": "stdout",
     "output_type": "stream",
     "text": [
      "valid sample percentage: 0.54 0.92 0.97\n"
     ]
    }
   ],
   "source": [
    "eye_data_v = eye_data[eye_data['Sensor'] == \"Eye Tracker\"] \n",
    "p = round((eye_data_v.shape[0]-sum(eye_data_v['Gaze point X'].isna()))/eye_data_v.shape[0],2)\n",
    "p_1 = round((eye_data_1.shape[0]-sum(eye_data_1['Gaze point X'].isna()))/eye_data_1.shape[0],2)\n",
    "p_2 =round( (eye_data_2.shape[0]-sum(eye_data_2['Gaze point X'].isna()))/eye_data_2.shape[0],2)\n",
    "print(\"valid sample percentage:\", p,p_1,p_2)"
   ]
  },
  {
   "cell_type": "markdown",
   "metadata": {},
   "source": [
    "# COMBINE DATA "
   ]
  },
  {
   "cell_type": "code",
   "execution_count": 24,
   "metadata": {},
   "outputs": [],
   "source": [
    "df_DATA_1 = pd.merge_asof(Data_1, eye_data_1,on='timestamp',direction = 'nearest')\n",
    "df_DATA_2 = pd.merge_asof(Data_2, eye_data_2,on='timestamp',direction = 'nearest')\n",
    "df_DATA_1.drop(['Sensor'],inplace=True, axis=1)\n",
    "df_DATA_1[\"Experiment\"] = \"less car\"\n",
    "df_DATA_2.drop(['Sensor'],inplace=True, axis=1)\n",
    "df_DATA_2[\"Experiment\"] = \"more car\"\n",
    "df_DATA_1['Change_lane_by_rotY'] = abs((df_DATA_1['rotY']-df_DATA_1['rotY'].values[0]))>3\n",
    "df_DATA_2['Change_lane_by_rotY'] = abs((df_DATA_2['rotY']-df_DATA_1['rotY'].values[0]))>3"
   ]
  },
  {
   "cell_type": "code",
   "execution_count": 25,
   "metadata": {},
   "outputs": [
    {
     "data": {
      "text/plain": [
       "((5666, 123), (5554, 123))"
      ]
     },
     "execution_count": 25,
     "metadata": {},
     "output_type": "execute_result"
    }
   ],
   "source": [
    "df_DATA_1.shape,df_DATA_2.shape"
   ]
  },
  {
   "cell_type": "code",
   "execution_count": 26,
   "metadata": {
    "scrolled": false
   },
   "outputs": [],
   "source": [
    "df_DATA_1.to_csv(\"Data/Experiment_1_Sub_15_0723.csv\",index=False)\n",
    "df_DATA_2.to_csv(\"Data/Experiment_2_Sub_15_0723.csv\",index=False)"
   ]
  },
  {
   "cell_type": "code",
   "execution_count": null,
   "metadata": {},
   "outputs": [],
   "source": []
  },
  {
   "cell_type": "code",
   "execution_count": null,
   "metadata": {},
   "outputs": [],
   "source": []
  }
 ],
 "metadata": {
  "kernelspec": {
   "display_name": "Python 3",
   "language": "python",
   "name": "python3"
  },
  "language_info": {
   "codemirror_mode": {
    "name": "ipython",
    "version": 3
   },
   "file_extension": ".py",
   "mimetype": "text/x-python",
   "name": "python",
   "nbconvert_exporter": "python",
   "pygments_lexer": "ipython3",
   "version": "3.8.5"
  }
 },
 "nbformat": 4,
 "nbformat_minor": 4
}
